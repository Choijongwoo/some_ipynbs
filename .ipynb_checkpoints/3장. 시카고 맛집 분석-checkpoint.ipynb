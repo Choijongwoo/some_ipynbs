{
 "cells": [
  {
   "cell_type": "code",
   "execution_count": 1,
   "metadata": {},
   "outputs": [],
   "source": [
    "from bs4 import BeautifulSoup"
   ]
  },
  {
   "cell_type": "code",
   "execution_count": 2,
   "metadata": {},
   "outputs": [],
   "source": [
    "import os"
   ]
  },
  {
   "cell_type": "code",
   "execution_count": 3,
   "metadata": {},
   "outputs": [
    {
     "data": {
      "text/plain": [
       "'/Users/quan/some_ipynbs'"
      ]
     },
     "execution_count": 3,
     "metadata": {},
     "output_type": "execute_result"
    }
   ],
   "source": [
    "os.getcwd()"
   ]
  },
  {
   "cell_type": "code",
   "execution_count": 4,
   "metadata": {},
   "outputs": [],
   "source": [
    "os.chdir(\"./data\")"
   ]
  },
  {
   "cell_type": "code",
   "execution_count": 5,
   "metadata": {},
   "outputs": [
    {
     "data": {
      "text/plain": [
       "'/Users/quan/some_ipynbs/data'"
      ]
     },
     "execution_count": 5,
     "metadata": {},
     "output_type": "execute_result"
    }
   ],
   "source": [
    "os.getcwd()"
   ]
  },
  {
   "cell_type": "code",
   "execution_count": 6,
   "metadata": {
    "scrolled": true
   },
   "outputs": [
    {
     "data": {
      "text/plain": [
       "['.ipynb_checkpoints',\n",
       " '01. CCTV_in_Seoul.csv',\n",
       " '01. CCTV_result.csv',\n",
       " '01. population_in_Seoul.xls',\n",
       " '02. crime_in_Seoul.csv',\n",
       " '02. crime_in_Seoul_final.csv',\n",
       " '02. crime_in_Seoul_include_gu_name.csv',\n",
       " '02. folium_US_Unemployment_Oct2012.csv',\n",
       " '02. folium_us-states.json',\n",
       " '02. sales-funnel.xlsx',\n",
       " '02. skorea_municipalities_geo_simple.json',\n",
       " '03. best_sandwiches_list_chicago.csv',\n",
       " '03. best_sandwiches_list_chicago2.csv',\n",
       " '03. test_first.html',\n",
       " '05. draw_korea.csv',\n",
       " '05. draw_korea_raw.xlsx',\n",
       " '05. election_result.csv',\n",
       " '05. population_raw_data.xlsx',\n",
       " '05. skorea_municipalities_geo_simple.json',\n",
       " '06. result.xlsx',\n",
       " '06. result2.xlsx',\n",
       " '07. a_new_hope.txt',\n",
       " '07. alice.txt',\n",
       " '07. alice_mask.png',\n",
       " '07. example_wp_R.csv',\n",
       " '07. example_wp_peyton_manning.csv',\n",
       " '07. portland-oregon-average-monthly-.csv',\n",
       " '07. stormtrooper_mask.png',\n",
       " '07. web_traffic.tsv',\n",
       " '08. PinkWink Web Traffic.csv',\n",
       " '08. example_wp_R.csv',\n",
       " '08. example_wp_peyton_manning.csv',\n",
       " '09. a_new_hope.txt',\n",
       " '09. alice.txt',\n",
       " '09. alice_mask.png',\n",
       " '09. heart.jpg',\n",
       " '09. stormtrooper_mask.png',\n",
       " 'googlemaps_api_key.txt',\n",
       " 'map_of_seoul.jpeg',\n",
       " '지역_위치별(주유소) (1).xls',\n",
       " '지역_위치별(주유소) (10).xls',\n",
       " '지역_위치별(주유소) (11).xls',\n",
       " '지역_위치별(주유소) (12).xls',\n",
       " '지역_위치별(주유소) (13).xls',\n",
       " '지역_위치별(주유소) (14).xls',\n",
       " '지역_위치별(주유소) (15).xls',\n",
       " '지역_위치별(주유소) (16).xls',\n",
       " '지역_위치별(주유소) (17).xls',\n",
       " '지역_위치별(주유소) (18).xls',\n",
       " '지역_위치별(주유소) (19).xls',\n",
       " '지역_위치별(주유소) (2).xls',\n",
       " '지역_위치별(주유소) (20).xls',\n",
       " '지역_위치별(주유소) (21).xls',\n",
       " '지역_위치별(주유소) (22).xls',\n",
       " '지역_위치별(주유소) (23).xls',\n",
       " '지역_위치별(주유소) (24).xls',\n",
       " '지역_위치별(주유소) (3).xls',\n",
       " '지역_위치별(주유소) (4).xls',\n",
       " '지역_위치별(주유소) (5).xls',\n",
       " '지역_위치별(주유소) (6).xls',\n",
       " '지역_위치별(주유소) (7).xls',\n",
       " '지역_위치별(주유소) (8).xls',\n",
       " '지역_위치별(주유소) (9).xls',\n",
       " '지역_위치별(주유소).xls']"
      ]
     },
     "execution_count": 6,
     "metadata": {},
     "output_type": "execute_result"
    }
   ],
   "source": [
    "sorted(os.listdir())"
   ]
  },
  {
   "cell_type": "code",
   "execution_count": 7,
   "metadata": {},
   "outputs": [],
   "source": [
    "file = open(\"./03. test_first.html\").read()"
   ]
  },
  {
   "cell_type": "code",
   "execution_count": 8,
   "metadata": {},
   "outputs": [],
   "source": [
    "soup = BeautifulSoup(file, \"html.parser\")"
   ]
  },
  {
   "cell_type": "code",
   "execution_count": 9,
   "metadata": {},
   "outputs": [],
   "source": [
    "links = soup.find_all('a')"
   ]
  },
  {
   "cell_type": "code",
   "execution_count": 10,
   "metadata": {},
   "outputs": [
    {
     "name": "stdout",
     "output_type": "stream",
     "text": [
      "http://www.pinkwink.kr PinkWink\n",
      "https://www.python.org Python\n"
     ]
    }
   ],
   "source": [
    "for link in links:\n",
    "    href = link['href']\n",
    "    text = link.string\n",
    "    print(href, text)"
   ]
  },
  {
   "cell_type": "code",
   "execution_count": 11,
   "metadata": {},
   "outputs": [
    {
     "name": "stdout",
     "output_type": "stream",
     "text": [
      "PinkWink\n",
      "Python\n"
     ]
    }
   ],
   "source": [
    "for link in links:\n",
    "    print(link.string)"
   ]
  },
  {
   "cell_type": "code",
   "execution_count": 12,
   "metadata": {},
   "outputs": [
    {
     "data": {
      "text/plain": [
       "[<a href=\"http://www.pinkwink.kr\" id=\"pw-link\">PinkWink</a>,\n",
       " <a href=\"https://www.python.org\" id=\"py-link\">Python</a>]"
      ]
     },
     "execution_count": 12,
     "metadata": {},
     "output_type": "execute_result"
    }
   ],
   "source": [
    "links"
   ]
  },
  {
   "cell_type": "code",
   "execution_count": 15,
   "metadata": {},
   "outputs": [],
   "source": [
    "body = soup.body"
   ]
  },
  {
   "cell_type": "code",
   "execution_count": 26,
   "metadata": {},
   "outputs": [
    {
     "name": "stdout",
     "output_type": "stream",
     "text": [
      "\n",
      "\n",
      "\n",
      "\n",
      "<div>\n",
      "<p class=\"inner-text first-item\" id=\"first\">\n",
      "                Happy PinkWink.\n",
      "                <a href=\"http://www.pinkwink.kr\" id=\"pw-link\">PinkWink</a>\n",
      "</p>\n",
      "<p class=\"inner-text second-item\">\n",
      "                Happy Data Science.\n",
      "                <a href=\"https://www.python.org\" id=\"py-link\">Python</a>\n",
      "</p>\n",
      "</div>\n",
      "\n",
      "\n",
      "\n",
      "\n",
      "\n",
      "\n",
      "<p class=\"outer-text first-item\" id=\"second\">\n",
      "<b>\n",
      "                Data Science is funny.\n",
      "            </b>\n",
      "</p>\n",
      "\n",
      "\n",
      "\n",
      "\n",
      "\n",
      "\n",
      "<p class=\"outer-text\">\n",
      "<b>\n",
      "                All I need is Love.\n",
      "            </b>\n",
      "</p>\n",
      "\n",
      "\n",
      "\n",
      "\n",
      "\n",
      "\n"
     ]
    }
   ],
   "source": [
    "for i in list(body.children):\n",
    "    print(i)\n",
    "    print(\"\\n\")\n",
    "\n"
   ]
  },
  {
   "cell_type": "code",
   "execution_count": 29,
   "metadata": {},
   "outputs": [
    {
     "data": {
      "text/plain": [
       "<bound method Tag.prettify of <body>\n",
       "<div>\n",
       "<p class=\"inner-text first-item\" id=\"first\">\n",
       "                Happy PinkWink.\n",
       "                <a href=\"http://www.pinkwink.kr\" id=\"pw-link\">PinkWink</a>\n",
       "</p>\n",
       "<p class=\"inner-text second-item\">\n",
       "                Happy Data Science.\n",
       "                <a href=\"https://www.python.org\" id=\"py-link\">Python</a>\n",
       "</p>\n",
       "</div>\n",
       "<p class=\"outer-text first-item\" id=\"second\">\n",
       "<b>\n",
       "                Data Science is funny.\n",
       "            </b>\n",
       "</p>\n",
       "<p class=\"outer-text\">\n",
       "<b>\n",
       "                All I need is Love.\n",
       "            </b>\n",
       "</p>\n",
       "</body>>"
      ]
     },
     "execution_count": 29,
     "metadata": {},
     "output_type": "execute_result"
    }
   ],
   "source": [
    "body.prettify"
   ]
  },
  {
   "cell_type": "code",
   "execution_count": null,
   "metadata": {},
   "outputs": [],
   "source": []
  }
 ],
 "metadata": {
  "kernelspec": {
   "display_name": "Python 3",
   "language": "python",
   "name": "python3"
  },
  "language_info": {
   "codemirror_mode": {
    "name": "ipython",
    "version": 3
   },
   "file_extension": ".py",
   "mimetype": "text/x-python",
   "name": "python",
   "nbconvert_exporter": "python",
   "pygments_lexer": "ipython3",
   "version": "3.6.5"
  }
 },
 "nbformat": 4,
 "nbformat_minor": 2
}
