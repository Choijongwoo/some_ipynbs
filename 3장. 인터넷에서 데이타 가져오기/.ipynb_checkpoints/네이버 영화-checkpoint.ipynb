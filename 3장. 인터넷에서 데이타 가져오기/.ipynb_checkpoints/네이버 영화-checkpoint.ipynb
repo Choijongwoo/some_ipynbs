{
 "cells": [
  {
   "cell_type": "code",
   "execution_count": 1,
   "metadata": {},
   "outputs": [],
   "source": [
    "import requests\n",
    "import numpy as np\n",
    "import pandas as pd\n",
    "import matplotlib.pyplot as plt\n",
    "from bs4 import BeautifulSoup\n",
    "from tqdm import tqdm_notebook"
   ]
  },
  {
   "cell_type": "code",
   "execution_count": 2,
   "metadata": {},
   "outputs": [],
   "source": [
    "response = requests.get('https://movie.naver.com/movie/sdb/rank/rmovie.nhn?sel=cur&date=20180525').text"
   ]
  },
  {
   "cell_type": "code",
   "execution_count": 3,
   "metadata": {},
   "outputs": [],
   "source": [
    "soup = BeautifulSoup(response, 'html.parser')"
   ]
  },
  {
   "cell_type": "code",
   "execution_count": 13,
   "metadata": {},
   "outputs": [],
   "source": [
    "dates_100 = pd.date_range('20180126', periods=100,freq='D')"
   ]
  },
  {
   "cell_type": "code",
   "execution_count": 5,
   "metadata": {},
   "outputs": [],
   "source": [
    "url = \"https://movie.naver.com/movie/sdb/rank/rmovie.nhn?sel=cur&date={}\""
   ]
  },
  {
   "cell_type": "code",
   "execution_count": 18,
   "metadata": {
    "scrolled": true
   },
   "outputs": [
    {
     "data": {
      "application/vnd.jupyter.widget-view+json": {
       "model_id": "21224e014bb04ca08d59422ed5e3f3dd",
       "version_major": 2,
       "version_minor": 0
      },
      "text/plain": [
       "HBox(children=(IntProgress(value=0), HTML(value='')))"
      ]
     },
     "metadata": {},
     "output_type": "display_data"
    },
    {
     "name": "stdout",
     "output_type": "stream",
     "text": [
      "\n"
     ]
    }
   ],
   "source": [
    "names = []\n",
    "points = []\n",
    "dates = []\n",
    "\n",
    "for date in tqdm_notebook(dates_100):\n",
    "    url_with_date = url.format(date.strftime(\"%Y%m%d\"))\n",
    "    html = requests.get(url_with_date).text\n",
    "    soup = BeautifulSoup(html, 'html.parser')\n",
    "    \n",
    "    tmp_names = soup.find_all('div','tit5')     \n",
    "    for name in tmp_names:\n",
    "        names.append(name.find('a').string)\n",
    "        dates.append(date.strftime(\"%Y%m%d\"))\n",
    "\n",
    "\n",
    "    tmp_points = soup.find_all('td','point')\n",
    "    for point in tmp_points:\n",
    "        points.append(point.string)\n",
    "    \n",
    "    \n",
    "    \n",
    "    \n",
    "    \n",
    "# a = soup.find_all('div','tit5')\n",
    "# b = soup.find_all('td','point')\n",
    "\n",
    "\n",
    "# name = [i.find('a').string for i in a]\n",
    "# point = [i.string for i in b]"
   ]
  },
  {
   "cell_type": "code",
   "execution_count": 20,
   "metadata": {},
   "outputs": [],
   "source": [
    "df = pd.DataFrame({\"dates\":dates, 'names':names, 'points':points})"
   ]
  },
  {
   "cell_type": "code",
   "execution_count": 25,
   "metadata": {},
   "outputs": [],
   "source": [
    "df.to_csv(\"../data/03.naver_movie_crawling.csv\",sep=',', encoding='utf8')"
   ]
  },
  {
   "cell_type": "code",
   "execution_count": null,
   "metadata": {},
   "outputs": [],
   "source": []
  }
 ],
 "metadata": {
  "kernelspec": {
   "display_name": "Python 3",
   "language": "python",
   "name": "python3"
  },
  "language_info": {
   "codemirror_mode": {
    "name": "ipython",
    "version": 3
   },
   "file_extension": ".py",
   "mimetype": "text/x-python",
   "name": "python",
   "nbconvert_exporter": "python",
   "pygments_lexer": "ipython3",
   "version": "3.6.5"
  }
 },
 "nbformat": 4,
 "nbformat_minor": 2
}
